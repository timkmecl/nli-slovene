{
 "cells": [
  {
   "attachments": {},
   "cell_type": "markdown",
   "metadata": {},
   "source": [
    "Evaluation of model predictions for SI-NLI test set for all models"
   ]
  },
  {
   "cell_type": "code",
   "execution_count": null,
   "metadata": {},
   "outputs": [],
   "source": [
    "import pandas as pd\n",
    "import numpy as np\n",
    "np.random.seed(42)"
   ]
  },
  {
   "cell_type": "code",
   "execution_count": null,
   "metadata": {},
   "outputs": [],
   "source": [
    "# SI-NLI test set\n",
    "test = pd.read_csv('data/SI-NLI/test.tsv', sep=\"\\t\")"
   ]
  },
  {
   "cell_type": "code",
   "execution_count": null,
   "metadata": {},
   "outputs": [],
   "source": [
    "def i_to_label(i):\n",
    "\tif i == 0:\n",
    "\t\treturn 'entailment'\n",
    "\telif i == 1:\n",
    "\t\treturn 'neutral'\n",
    "\telif i == 2:\n",
    "\t\treturn 'contradiction'\n",
    "\telse:\n",
    "\t\treturn 'error'"
   ]
  },
  {
   "cell_type": "code",
   "execution_count": null,
   "metadata": {},
   "outputs": [],
   "source": [
    "# loads predictions from all models (in `/napovedi/sinli/` folder in this repository instead of `data/`) and converts them to labels\n",
    "sloberta_model_names = ['sinli', 'sinli_smaller', 'sinli_unanimous', 'esnlisi_4k', 'esnlisi_40k', 'esnlisi_50k', 'esnlisi_sinli']\n",
    "preds = {}\n",
    "for name in sloberta_model_names:\n",
    "\tpreds[name] = pd.read_csv(f'data/predictions_{name}.csv').to_numpy().argmax(axis=1)\n",
    "\tpreds[name] = [i_to_label(p) for p in preds[name].tolist()]"
   ]
  },
  {
   "cell_type": "code",
   "execution_count": null,
   "metadata": {},
   "outputs": [],
   "source": [
    "# loads predictions from GPT model\n",
    "names = sloberta_model_names + ['gpt_0shot']\n",
    "preds['gpt_0shot'] = pd.read_csv('data/test_gpt.tsv', sep=\"\\t\")['0shot'].tolist()"
   ]
  },
  {
   "cell_type": "code",
   "execution_count": null,
   "metadata": {},
   "outputs": [],
   "source": [
    "# add predictions to test set\n",
    "for name in names:\n",
    "\ttest[f'{name}_pred'] = preds[name]"
   ]
  },
  {
   "cell_type": "code",
   "execution_count": null,
   "metadata": {},
   "outputs": [],
   "source": [
    "# names used in the paper (for the plots)\n",
    "final_names = ['SI-NLI', 'SI-NLI-manjša', 'SI-NLI-soglasni', 'ESNLIsi-4k', 'ESNLIsi-40k', 'ESNLIsi', 'ESNLIsi SI-NLI', 'GPT-3.5-turbo']"
   ]
  },
  {
   "attachments": {},
   "cell_type": "markdown",
   "metadata": {},
   "source": [
    "## Confusion matrices for all"
   ]
  },
  {
   "cell_type": "code",
   "execution_count": null,
   "metadata": {},
   "outputs": [],
   "source": [
    "from sklearn.metrics import confusion_matrix\n",
    "import seaborn as sns\n",
    "import matplotlib.pyplot as plt\n",
    "\n",
    "def confusion_matrix_for_column(df, name, display_name):\n",
    "\tcm = confusion_matrix(df['label'], df[f'{name}_pred'], labels=['entailment', 'neutral', 'contradiction'])\n",
    "\tsns.heatmap(cm, annot=True, xticklabels=['implikacija', 'nevtralno', 'kontradikcija'], yticklabels=['implikacija', 'nevtralno', 'kontradikcija'])\n",
    "\tplt.xlabel('Napovedana oznaka')\n",
    "\tplt.ylabel('Pravilna oznaka')\n",
    "\tplt.title(display_name)\n",
    "\tplt.show()"
   ]
  },
  {
   "cell_type": "code",
   "execution_count": null,
   "metadata": {},
   "outputs": [],
   "source": [
    "for i, name in enumerate(names):\n",
    "\tconfusion_matrix_for_column(test, name, final_names[i])"
   ]
  },
  {
   "attachments": {},
   "cell_type": "markdown",
   "metadata": {},
   "source": [
    "## Metrics"
   ]
  },
  {
   "cell_type": "code",
   "execution_count": null,
   "metadata": {},
   "outputs": [],
   "source": [
    "from sklearn import metrics"
   ]
  },
  {
   "cell_type": "code",
   "execution_count": null,
   "metadata": {},
   "outputs": [],
   "source": [
    "for name in names:\n",
    "\tprint(name)\n",
    "\tprint(metrics.classification_report(test['label'], test[f'{name}_pred'], digits=3))\n",
    "\tprint()"
   ]
  },
  {
   "cell_type": "code",
   "execution_count": null,
   "metadata": {},
   "outputs": [],
   "source": []
  }
 ],
 "metadata": {
  "kernelspec": {
   "display_name": "Python 3",
   "language": "python",
   "name": "python3"
  },
  "language_info": {
   "codemirror_mode": {
    "name": "ipython",
    "version": 3
   },
   "file_extension": ".py",
   "mimetype": "text/x-python",
   "name": "python",
   "nbconvert_exporter": "python",
   "pygments_lexer": "ipython3",
   "version": "3.8.0"
  },
  "orig_nbformat": 4
 },
 "nbformat": 4,
 "nbformat_minor": 2
}
