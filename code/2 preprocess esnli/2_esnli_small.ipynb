{
 "cells": [
  {
   "attachments": {},
   "cell_type": "markdown",
   "metadata": {},
   "source": [
    "Select samples for test translations using different translators"
   ]
  },
  {
   "cell_type": "code",
   "execution_count": 1,
   "metadata": {},
   "outputs": [],
   "source": [
    "import pandas as pd\n",
    "import numpy as np\n",
    "np.random.seed(42)"
   ]
  },
  {
   "cell_type": "code",
   "execution_count": 2,
   "metadata": {},
   "outputs": [],
   "source": [
    "# merged ESNLI train, dev, test sets\n",
    "train = pd.read_csv('data_out/eSNLI/train.csv')\n",
    "dev = pd.read_csv('data_out/eSNLI/dev.csv')\n",
    "test = pd.read_csv('data_out/eSNLI/test.csv')"
   ]
  },
  {
   "cell_type": "code",
   "execution_count": 4,
   "metadata": {},
   "outputs": [],
   "source": [
    "n = 200\n",
    "test_small  = test.groupby('gold_label', group_keys=False).apply(lambda df: df.sample(n))\n",
    "dev_small\t= dev.groupby('gold_label', group_keys=False).apply(lambda df: df.sample(n))\n",
    "test_small = test_small.reset_index(drop=True)[['gold_label', 'Sentence1', 'Sentence2', 'Explanation_1', 'Explanation_2', 'Explanation_3']]\n",
    "dev_small = dev_small.reset_index(drop=True)[['gold_label', 'Sentence1', 'Sentence2', 'Explanation_1', 'Explanation_2', 'Explanation_3']]"
   ]
  },
  {
   "cell_type": "code",
   "execution_count": 6,
   "metadata": {},
   "outputs": [],
   "source": [
    "n1 = 500\n",
    "train_small1 = train.groupby('gold_label', group_keys=False).apply(lambda df: df.sample(n1))\n",
    "train_small1 = train_small1.reset_index(drop=True)[['gold_label', 'Sentence1', 'Sentence2', 'Explanation_1']]"
   ]
  },
  {
   "cell_type": "code",
   "execution_count": 9,
   "metadata": {},
   "outputs": [],
   "source": [
    "test_small.to_csv('data_out/eSNLI-small/test.csv', index=False)\n",
    "dev_small.to_csv('data_out/eSNLI-small/dev.csv', index=False)\n",
    "train_small1.to_csv('data_out/eSNLI-small/train-500.csv', index=False)"
   ]
  }
 ],
 "metadata": {
  "kernelspec": {
   "display_name": "Python 3",
   "language": "python",
   "name": "python3"
  },
  "language_info": {
   "codemirror_mode": {
    "name": "ipython",
    "version": 3
   },
   "file_extension": ".py",
   "mimetype": "text/x-python",
   "name": "python",
   "nbconvert_exporter": "python",
   "pygments_lexer": "ipython3",
   "version": "3.8.0"
  },
  "orig_nbformat": 4
 },
 "nbformat": 4,
 "nbformat_minor": 2
}
