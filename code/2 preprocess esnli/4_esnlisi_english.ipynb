{
 "cells": [
  {
   "attachments": {},
   "cell_type": "markdown",
   "metadata": {},
   "source": [
    "Select samples from ESNLI to be translated by Google Translate API"
   ]
  },
  {
   "cell_type": "code",
   "execution_count": null,
   "metadata": {},
   "outputs": [],
   "source": [
    "import pandas as pd\n",
    "import numpy as np\n",
    "np.random.seed(42)"
   ]
  },
  {
   "cell_type": "code",
   "execution_count": null,
   "metadata": {},
   "outputs": [],
   "source": [
    "# Merged ESNLI train, dev, test sets\n",
    "train = pd.read_csv('data_out/eSNLI/train.csv')\n",
    "dev = pd.read_csv('data_out/eSNLI/dev.csv')\n",
    "test = pd.read_csv('data_out/eSNLI/test.csv')"
   ]
  },
  {
   "cell_type": "code",
   "execution_count": null,
   "metadata": {},
   "outputs": [],
   "source": [
    "def random_selection(df, n):\n",
    "\t#premises = df['Sentence1'].unique()\n",
    "\t#premises = np.random.choice(premises, n, replace=False)\n",
    "\t#selection = df[df['Sentence1'].isin(premises)]\n",
    "\tselection = df.sample(n)\n",
    "\treturn selection"
   ]
  },
  {
   "cell_type": "code",
   "execution_count": null,
   "metadata": {},
   "outputs": [],
   "source": [
    "train_50k = random_selection(train, 50000)\n",
    "train_50k['gold_label'].value_counts()"
   ]
  },
  {
   "cell_type": "code",
   "execution_count": null,
   "metadata": {},
   "outputs": [],
   "source": [
    "dev_3k = random_selection(dev, 3000)\n",
    "dev_3k['gold_label'].value_counts()"
   ]
  },
  {
   "cell_type": "code",
   "execution_count": null,
   "metadata": {},
   "outputs": [],
   "source": [
    "test_3k = random_selection(test, 3000)\n",
    "test_3k['gold_label'].value_counts()"
   ]
  },
  {
   "cell_type": "code",
   "execution_count": null,
   "metadata": {},
   "outputs": [],
   "source": [
    "test_3k = test_3k.reset_index(drop=True)[['pairID', 'gold_label', 'Sentence1', 'Sentence2', 'Explanation_1', 'Explanation_2', 'Explanation_3']]\n",
    "dev_3k = dev_3k.reset_index(drop=True)[['pairID', 'gold_label', 'Sentence1', 'Sentence2', 'Explanation_1', 'Explanation_2', 'Explanation_3']]\n",
    "\n",
    "train_50k = train_50k.reset_index(drop=True)[['pairID', 'gold_label', 'Sentence1', 'Sentence2', 'Explanation_1']]"
   ]
  },
  {
   "cell_type": "code",
   "execution_count": null,
   "metadata": {},
   "outputs": [],
   "source": [
    "# filter out those with too short explanations from train\n",
    "\n",
    "train_50k = train_50k[train_50k['Explanation_1'].astype(str).map(len) >= 14]\n",
    "train_50k = train_50k[train_50k['Sentence2'].astype(str).map(len) >= 10]\n",
    "print(len(train_50k))\n",
    "print(train_50k['gold_label'].value_counts())"
   ]
  },
  {
   "cell_type": "code",
   "execution_count": null,
   "metadata": {},
   "outputs": [],
   "source": [
    "# save selections to files\n",
    "train_50k.to_csv('data_out/eSNLIsi/train_50k.tsv', sep='\\t', index=False)\n",
    "dev_3k.to_csv('data_out/eSNLIsi/dev_3k.tsv', sep='\\t', index=False)\n",
    "test_3k.to_csv('data_out/eSNLIsi/test_3k.tsv', sep='\\t', index=False)"
   ]
  }
 ],
 "metadata": {
  "kernelspec": {
   "display_name": "Python 3",
   "language": "python",
   "name": "python3"
  },
  "language_info": {
   "codemirror_mode": {
    "name": "ipython",
    "version": 3
   },
   "file_extension": ".py",
   "mimetype": "text/x-python",
   "name": "python",
   "nbconvert_exporter": "python",
   "pygments_lexer": "ipython3",
   "version": "3.8.0"
  },
  "orig_nbformat": 4
 },
 "nbformat": 4,
 "nbformat_minor": 2
}
