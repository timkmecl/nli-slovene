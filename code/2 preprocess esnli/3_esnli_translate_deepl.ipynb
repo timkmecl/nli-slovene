{
 "cells": [
  {
   "cell_type": "code",
   "execution_count": null,
   "metadata": {},
   "outputs": [],
   "source": [
    "import pandas as pd\n",
    "import numpy as np\n",
    "np.random.seed(42)"
   ]
  },
  {
   "cell_type": "code",
   "execution_count": null,
   "metadata": {},
   "outputs": [],
   "source": [
    "# samples for test translation\n",
    "test = pd.read_csv('data_out/eSNLI-small/test.csv')\n",
    "dev = pd.read_csv('data_out/eSNLI-small/dev.csv')\n",
    "train = pd.read_csv('data_out/eSNLI-small/train-500.csv')"
   ]
  },
  {
   "cell_type": "code",
   "execution_count": null,
   "metadata": {},
   "outputs": [],
   "source": [
    "with open('API_KEY_DEEPL') as f:\n",
    "\t\tAPI_KEY_DEEPL = f.readline().strip()"
   ]
  },
  {
   "cell_type": "code",
   "execution_count": null,
   "metadata": {},
   "outputs": [],
   "source": [
    "import deepl\n",
    "translator = deepl.Translator(API_KEY_DEEPL)"
   ]
  },
  {
   "cell_type": "code",
   "execution_count": null,
   "metadata": {},
   "outputs": [],
   "source": [
    "def translate_field(df, field):\n",
    "\t# loop through all the sentences in chunks of 50 and translate\n",
    "\tlist_of_sentences = df[field].to_list()\n",
    "\tlist_of_translations = []\n",
    "\tfor i in range(0, len(list_of_sentences), 50):\n",
    "\t\tprint(i)\n",
    "\t\tresult = translator.translate_text(list_of_sentences[i:i+50], target_lang=\"SL\", source_lang=\"EN\")\n",
    "\t\tlist_of_translations.extend([t.text for t in result])\n",
    "\treturn list_of_translations"
   ]
  },
  {
   "attachments": {},
   "cell_type": "markdown",
   "metadata": {},
   "source": [
    "### Translate premises and hypotheses"
   ]
  },
  {
   "cell_type": "code",
   "execution_count": null,
   "metadata": {},
   "outputs": [],
   "source": [
    "dev['Sentence1_si'] = translate_field(dev, 'Sentence1')\n",
    "dev['Sentence2_si'] = translate_field(dev, 'Sentence2')"
   ]
  },
  {
   "cell_type": "code",
   "execution_count": null,
   "metadata": {},
   "outputs": [],
   "source": [
    "test['Sentence1_si'] = translate_field(test, 'Sentence1')\n",
    "test['Sentence2_si'] = translate_field(test, 'Sentence2')"
   ]
  },
  {
   "cell_type": "code",
   "execution_count": null,
   "metadata": {},
   "outputs": [],
   "source": [
    "test.to_csv('data_out/eSNLIsi/test.tsv', sep='\\t', index=False)\n",
    "dev.to_csv('data_out/eSNLIsi/dev.tsv', sep='\\t', index=False)"
   ]
  },
  {
   "cell_type": "code",
   "execution_count": null,
   "metadata": {},
   "outputs": [],
   "source": [
    "train['Sentence1_si'] = translate_field(train, 'Sentence1')\n",
    "train['Sentence2_si'] = translate_field(train, 'Sentence2')"
   ]
  },
  {
   "cell_type": "code",
   "execution_count": null,
   "metadata": {},
   "outputs": [],
   "source": [
    "train.to_csv('data_out/eSNLIsi/train-500.tsv', sep='\\t', index=False)"
   ]
  },
  {
   "attachments": {},
   "cell_type": "markdown",
   "metadata": {},
   "source": [
    "### Transalte explanations too"
   ]
  },
  {
   "cell_type": "code",
   "execution_count": null,
   "metadata": {},
   "outputs": [],
   "source": [
    "test['Explanation_1_si'] = translate_field(test, 'Explanation_1')\n",
    "dev['Explanation_1_si'] = translate_field(dev, 'Explanation_1')\n",
    "train['Explanation_1_si'] = translate_field(train, 'Explanation_1')"
   ]
  },
  {
   "cell_type": "code",
   "execution_count": null,
   "metadata": {},
   "outputs": [],
   "source": [
    "test.to_csv('data_out/eSNLIsi/test.tsv', sep='\\t', index=False)\n",
    "dev.to_csv('data_out/eSNLIsi/dev.tsv', sep='\\t', index=False)\n",
    "train.to_csv('data_out/eSNLIsi/train-500.tsv', sep='\\t', index=False)"
   ]
  }
 ],
 "metadata": {
  "kernelspec": {
   "display_name": "Python 3",
   "language": "python",
   "name": "python3"
  },
  "language_info": {
   "codemirror_mode": {
    "name": "ipython",
    "version": 3
   },
   "file_extension": ".py",
   "mimetype": "text/x-python",
   "name": "python",
   "nbconvert_exporter": "python",
   "pygments_lexer": "ipython3",
   "version": "3.8.0"
  },
  "orig_nbformat": 4
 },
 "nbformat": 4,
 "nbformat_minor": 2
}
