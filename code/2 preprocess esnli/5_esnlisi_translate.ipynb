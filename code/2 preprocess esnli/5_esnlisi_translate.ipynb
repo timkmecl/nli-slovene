{
 "cells": [
  {
   "attachments": {},
   "cell_type": "markdown",
   "metadata": {},
   "source": [
    "Translate samples from ESNLI chosen in the previous notebook to Slovene to create ESNLIsi"
   ]
  },
  {
   "cell_type": "code",
   "execution_count": null,
   "metadata": {},
   "outputs": [],
   "source": [
    "import pandas as pd\n",
    "import numpy as np\n",
    "from tqdm import tqdm\n",
    "np.random.seed(42)"
   ]
  },
  {
   "cell_type": "code",
   "execution_count": null,
   "metadata": {},
   "outputs": [],
   "source": [
    "test = pd.read_csv('data_out/eSNLIsi/test_3k.tsv', sep='\\t')\n",
    "dev = pd.read_csv('data_out/eSNLIsi/dev_3k.tsv', sep='\\t')\n",
    "train = pd.read_csv('data_out/eSNLIsi/train_50k.tsv', sep='\\t')"
   ]
  },
  {
   "cell_type": "code",
   "execution_count": null,
   "metadata": {},
   "outputs": [],
   "source": [
    "with open('API_KEY_GOOGLE') as f:\n",
    "\t\tAPI_KEY_GOOGLE = f.readline().strip()"
   ]
  },
  {
   "cell_type": "code",
   "execution_count": null,
   "metadata": {},
   "outputs": [],
   "source": [
    "from google.cloud import translate_v2 as translate\n",
    "import os\n",
    "os.environ[\"GOOGLE_APPLICATION_CREDENTIALS\"]=\"`C:\\\\Users\\\\timkm\\\\AppData\\\\Local\\\\Packages\\\\PythonSoftwareFoundation.Python.3.9_qbz5n2kfra8p0\\\\LocalCache\\\\Roaming\\\\gcloud\\\\application_default_credentials.json\"\n",
    "os.environ[\"GOOGLE_APPLICATION_CREDENTIALS\"]=\"./application_default_credentials.json\""
   ]
  },
  {
   "cell_type": "code",
   "execution_count": null,
   "metadata": {},
   "outputs": [],
   "source": [
    "translate_client = translate.Client()"
   ]
  },
  {
   "cell_type": "code",
   "execution_count": null,
   "metadata": {},
   "outputs": [],
   "source": [
    "def translate_field(df, field):\n",
    "\t# loop through all the sentences in chunks of 50 and translate\n",
    "\tlist_of_sentences = df[field].to_list()\n",
    "\tlist_of_translations = []\n",
    "\tfor i in tqdm(range(0, len(list_of_sentences), 50)):\n",
    "\t\tresult = translate_client.translate(list_of_sentences[i:i+50], target_language=\"sl\", source_language=\"en\")\n",
    "\t\tlist_of_translations.extend([t['translatedText'] for t in result])\n",
    "\treturn list_of_translations"
   ]
  },
  {
   "cell_type": "code",
   "execution_count": null,
   "metadata": {},
   "outputs": [],
   "source": [
    "dev['Sentence1_si'] = translate_field(dev, 'Sentence1')\n",
    "dev['Sentence2_si'] = translate_field(dev, 'Sentence2')"
   ]
  },
  {
   "cell_type": "code",
   "execution_count": null,
   "metadata": {},
   "outputs": [],
   "source": [
    "test['Sentence1_si'] = translate_field(test, 'Sentence1')\n",
    "test['Sentence2_si'] = translate_field(test, 'Sentence2')"
   ]
  },
  {
   "cell_type": "code",
   "execution_count": null,
   "metadata": {},
   "outputs": [],
   "source": [
    "test.to_csv('data_out/eSNLIsi/test_3k.tsv', sep='\\t', index=False)\n",
    "dev.to_csv('data_out/eSNLIsi/dev_3k.tsv', sep='\\t', index=False)"
   ]
  },
  {
   "cell_type": "code",
   "execution_count": null,
   "metadata": {},
   "outputs": [],
   "source": [
    "train['Sentence1_si'] = translate_field(train, 'Sentence1')"
   ]
  },
  {
   "cell_type": "code",
   "execution_count": null,
   "metadata": {},
   "outputs": [],
   "source": [
    "train['Sentence2_si'] = translate_field(train, 'Sentence2')"
   ]
  },
  {
   "cell_type": "code",
   "execution_count": null,
   "metadata": {},
   "outputs": [],
   "source": [
    "train.to_csv('data_out/eSNLIsi/train_50k.tsv', sep='\\t', index=False)"
   ]
  },
  {
   "attachments": {},
   "cell_type": "markdown",
   "metadata": {},
   "source": [
    "### Transalte explanations too"
   ]
  },
  {
   "cell_type": "code",
   "execution_count": null,
   "metadata": {},
   "outputs": [],
   "source": [
    "test['Explanation_1_si'] = translate_field(test, 'Explanation_1')\n",
    "dev['Explanation_1_si'] = translate_field(dev, 'Explanation_1')"
   ]
  },
  {
   "cell_type": "code",
   "execution_count": null,
   "metadata": {},
   "outputs": [],
   "source": [
    "test.to_csv('data_out/eSNLIsi/test_3k.tsv', sep='\\t', index=False)\n",
    "dev.to_csv('data_out/eSNLIsi/dev_3k.tsv', sep='\\t', index=False)"
   ]
  },
  {
   "cell_type": "code",
   "execution_count": null,
   "metadata": {},
   "outputs": [],
   "source": [
    "train['Explanation_1_si'] = translate_field(train, 'Explanation_1')"
   ]
  },
  {
   "cell_type": "code",
   "execution_count": null,
   "metadata": {},
   "outputs": [],
   "source": [
    "train.to_csv('data_out/eSNLIsi/train_50k.tsv', sep='\\t', index=False)"
   ]
  },
  {
   "attachments": {},
   "cell_type": "markdown",
   "metadata": {},
   "source": [
    "---\n",
    "### Select and save smaller subsets of the 3 sets"
   ]
  },
  {
   "cell_type": "code",
   "execution_count": null,
   "metadata": {},
   "outputs": [],
   "source": [
    "np.random.seed(42)"
   ]
  },
  {
   "cell_type": "code",
   "execution_count": null,
   "metadata": {},
   "outputs": [],
   "source": [
    "dev_600 = train.sample(600)\n",
    "dev_600['gold_label'].value_counts()"
   ]
  },
  {
   "cell_type": "code",
   "execution_count": null,
   "metadata": {},
   "outputs": [],
   "source": [
    "train_4k = train.sample(4000)\n",
    "train_4k['gold_label'].value_counts()"
   ]
  },
  {
   "cell_type": "code",
   "execution_count": null,
   "metadata": {},
   "outputs": [],
   "source": [
    "dev_600.to_csv('data_out/eSNLIsi/dev_600.tsv', sep='\\t', index=False)\n",
    "train_4k.to_csv('data_out/eSNLIsi/train_4k.tsv', sep='\\t', index=False)"
   ]
  }
 ],
 "metadata": {
  "kernelspec": {
   "display_name": "Python 3",
   "language": "python",
   "name": "python3"
  },
  "language_info": {
   "codemirror_mode": {
    "name": "ipython",
    "version": 3
   },
   "file_extension": ".py",
   "mimetype": "text/x-python",
   "name": "python",
   "nbconvert_exporter": "python",
   "pygments_lexer": "ipython3",
   "version": "3.8.0"
  },
  "orig_nbformat": 4
 },
 "nbformat": 4,
 "nbformat_minor": 2
}
