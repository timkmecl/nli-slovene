{
 "cells": [
  {
   "attachments": {},
   "cell_type": "markdown",
   "metadata": {},
   "source": [
    "Exploring annotator disagreements in Si-NLI"
   ]
  },
  {
   "cell_type": "code",
   "execution_count": null,
   "metadata": {},
   "outputs": [],
   "source": [
    "import pandas as pd\n",
    "import numpy as np\n",
    "np.random.seed(42)"
   ]
  },
  {
   "cell_type": "code",
   "execution_count": null,
   "metadata": {},
   "outputs": [],
   "source": [
    "# SI-NLI train set\n",
    "train = pd.read_csv('data/SI-NLI/train.tsv', sep=\"\\t\")"
   ]
  },
  {
   "cell_type": "code",
   "execution_count": null,
   "metadata": {},
   "outputs": [],
   "source": [
    "# ratio of each label\n",
    "train['label'].value_counts() / len(train)"
   ]
  },
  {
   "cell_type": "code",
   "execution_count": null,
   "metadata": {},
   "outputs": [],
   "source": [
    "len(train)"
   ]
  },
  {
   "cell_type": "code",
   "execution_count": null,
   "metadata": {},
   "outputs": [],
   "source": [
    "disagreements = []  # list of indices of disagreements\n",
    "anns_labels = []  # list of [label, annotations, index] for each row\n",
    "for i, row in train.iterrows():\n",
    "\tannotations = []\n",
    "\tfor annotator in ['1', '2', '3']:\n",
    "\t\tan = row['annotation_'+annotator]\n",
    "\t\tif not pd.isnull(an):\n",
    "\t\t\tannotations.append(an)\n",
    "\tlabel = row['label'][0].upper()\n",
    "\t# check if there is any difference from label\n",
    "\tif any([a != label for a in annotations]):\n",
    "\t\tdisagreements.append(i)\n",
    "\tanns_labels.append([label, annotations, i])\n",
    "\n",
    "print(len(disagreements))"
   ]
  },
  {
   "cell_type": "code",
   "execution_count": null,
   "metadata": {},
   "outputs": [],
   "source": [
    "# get majority annotator annotations\n",
    "majority_annotations_disagreements = []\n",
    "for label, anns, i in anns_labels:\n",
    "\t# count how many times each annotation appears\n",
    "\tcounts = {}\n",
    "\tfor a in anns:\n",
    "\t\tif a not in counts:\n",
    "\t\t\tcounts[a] = 0\n",
    "\t\tcounts[a] += 1\n",
    "\t# get the most common annotation\n",
    "\tif len(counts) > 0:\n",
    "\t\tmost_common = max(counts, key=counts.get)\n",
    "\telse :\n",
    "\t\tmost_common = None\n",
    "\tmajority_annotations_disagreements.append([label, most_common, i])\n",
    "\n",
    "len(majority_annotations_disagreements)"
   ]
  },
  {
   "cell_type": "code",
   "execution_count": null,
   "metadata": {},
   "outputs": [],
   "source": [
    "# check if there are any disagreements between the majority annotations and the correct label\n",
    "[a for a in majority_annotations_disagreements if a[0] != a[1] and a[1] is not None]"
   ]
  },
  {
   "attachments": {},
   "cell_type": "markdown",
   "metadata": {},
   "source": [
    "## Confusion matrix"
   ]
  },
  {
   "cell_type": "code",
   "execution_count": null,
   "metadata": {},
   "outputs": [],
   "source": [
    "LABELS = ['E', 'N', 'C']\n",
    "confusion_matrix = np.zeros((len(LABELS), len(LABELS)))\n",
    "for i, label in enumerate(LABELS):\n",
    "\tfor j, ann in enumerate(LABELS):\n",
    "\t\tconfusion_matrix[j, i] = len([a for a in anns_labels if a[0] == label and ann in a[1]])\n",
    "\t\tconfusion_matrix[j, i] = sum([len([aa for aa in a[1] if aa == ann]) for a in anns_labels if a[0] == label])"
   ]
  },
  {
   "cell_type": "code",
   "execution_count": null,
   "metadata": {},
   "outputs": [],
   "source": [
    "confusion_matrix"
   ]
  },
  {
   "cell_type": "code",
   "execution_count": null,
   "metadata": {},
   "outputs": [],
   "source": [
    "len([a for a in anns_labels if a[0] == 'E' and 'N' in a[1]])"
   ]
  },
  {
   "cell_type": "code",
   "execution_count": null,
   "metadata": {},
   "outputs": [],
   "source": [
    "plt.figure(figsize=(5, 4))\n",
    "cm = confusion_matrix\n",
    "sns.heatmap(cm, annot=True, xticklabels=['implikacija', 'nevtralno', 'kontradikcija'], yticklabels=['implikacija', 'nevtralno', 'kontradikcija'], cmap='gray_r', vmax=600, fmt='g')\n",
    "plt.xlabel('Napovedana oznaka')\n",
    "plt.ylabel('Pravilna oznaka')\n",
    "plt.title('Si-NLI validacijska')\n",
    "plt.savefig(f'./images/sinli-cm-val.pdf', bbox_inches='tight')\n",
    "plt.show()"
   ]
  },
  {
   "attachments": {},
   "cell_type": "markdown",
   "metadata": {},
   "source": [
    "Percentage of annotations that agree with the labels:"
   ]
  },
  {
   "cell_type": "code",
   "execution_count": null,
   "metadata": {},
   "outputs": [],
   "source": [
    "confusion_matrix.diagonal().sum() / confusion_matrix.sum()"
   ]
  },
  {
   "attachments": {},
   "cell_type": "markdown",
   "metadata": {},
   "source": [
    "Percentage of examples where annotators agree:"
   ]
  },
  {
   "cell_type": "code",
   "execution_count": null,
   "metadata": {},
   "outputs": [],
   "source": [
    "1 - len(disagreements) / len(train)"
   ]
  },
  {
   "attachments": {},
   "cell_type": "markdown",
   "metadata": {},
   "source": [
    "## Export unanimous samples of the train set to csv"
   ]
  },
  {
   "cell_type": "code",
   "execution_count": null,
   "metadata": {},
   "outputs": [],
   "source": [
    "# export unanimous as tsv\n",
    "\n",
    "unanimous_df = train[~train.index.isin(disagreements)]\n",
    "unanimous_df.to_csv('data_out/SI-NLI/train_unanimous.tsv', sep=\"\\t\", index=False)\n"
   ]
  }
 ],
 "metadata": {
  "kernelspec": {
   "display_name": "Python 3",
   "language": "python",
   "name": "python3"
  },
  "language_info": {
   "codemirror_mode": {
    "name": "ipython",
    "version": 3
   },
   "file_extension": ".py",
   "mimetype": "text/x-python",
   "name": "python",
   "nbconvert_exporter": "python",
   "pygments_lexer": "ipython3",
   "version": "3.8.0"
  },
  "orig_nbformat": 4
 },
 "nbformat": 4,
 "nbformat_minor": 2
}
